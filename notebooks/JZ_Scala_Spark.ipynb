{
 "cells": [
  {
   "cell_type": "code",
   "execution_count": 3,
   "metadata": {
    "collapsed": false,
    "extensions": {
     "jupyter_dashboards": {
      "version": 1,
      "views": {
       "grid_default": {
        "hidden": true
       },
       "report_default": {}
      }
     }
    }
   },
   "outputs": [],
   "source": [
    "import java.io.StringWriter\n",
    "import org.apache.spark.rdd.RDD\n",
    "import com.fasterxml.jackson.databind.ObjectMapper\n",
    "import com.fasterxml.jackson.module.scala.DefaultScalaModule\n",
    "import scala.collection.immutable.{Map, HashMap}\n",
    "import scala.collection.immutable.Set\n",
    "import scala.collection.mutable.ArrayBuffer\n",
    "import org.apache.spark.sql.DataFrame\n",
    "import org.apache.spark.sql.{ Row, SaveMode }\n",
    "import org.apache.spark.sql.types.{ StructType, StructField, StringType, IntegerType }\n",
    "import org.apache.spark.storage.StorageLevel"
   ]
  },
  {
   "cell_type": "code",
   "execution_count": 1,
   "metadata": {
    "collapsed": false,
    "extensions": {
     "jupyter_dashboards": {
      "version": 1,
      "views": {
       "grid_default": {
        "hidden": true
       },
       "report_default": {}
      }
     }
    }
   },
   "outputs": [],
   "source": [
    "/* John Zhu's attempt */\n",
    "object DaisngToESBulk {\n",
    "  val lookup = Map(\"ORGANIZATIONS\" -> \"affiliation\",\n",
    "                   \"NAME\"          -> \"author_name\",\n",
    "                   \"COUNTRIES\"     -> \"country\",\n",
    "                   \"STATES\"        -> \"state\",\n",
    "                   \"CITIES\"        -> \"city\",\n",
    "                   \"AUTHORLIST\"    -> \"authors\",\n",
    "                   \"ZIPS\"          -> \"zip\",\n",
    "                   \"DEPTS\"         -> \"department\")\n",
    "  \n",
    "  def getIndexFieldName(nextStr: String): String = {\n",
    "    if (lookup.contains(nextStr)) lookup(nextStr) else nextStr.toLowerCase\n",
    "  }\n",
    "  \n",
    "  def convertToJSONStr(currObj: Object): String = {\n",
    "    if (currObj == null) {\n",
    "      return \"\"\n",
    "    }\n",
    "    val mapper = new ObjectMapper()\n",
    "    mapper.registerModule(DefaultScalaModule)\n",
    "    val writer = new StringWriter()\n",
    "    mapper.writeValue(writer, currObj)\n",
    "    return writer.toString\n",
    "  }\n",
    "}"
   ]
  },
  {
   "cell_type": "code",
   "execution_count": 7,
   "metadata": {
    "collapsed": false,
    "extensions": {
     "jupyter_dashboards": {
      "version": 1,
      "views": {
       "grid_default": {
        "hidden": true
       },
       "report_default": {}
      }
     }
    }
   },
   "outputs": [],
   "source": []
  },
  {
   "cell_type": "code",
   "execution_count": null,
   "metadata": {
    "collapsed": true,
    "extensions": {
     "jupyter_dashboards": {
      "version": 1,
      "views": {
       "grid_default": {
        "hidden": true
       },
       "report_default": {}
      }
     }
    }
   },
   "outputs": [],
   "source": []
  }
 ],
 "metadata": {
  "extensions": {
   "jupyter_dashboards": {
    "activeView": "grid_default",
    "version": 1,
    "views": {
     "grid_default": {
      "cellMargin": 10,
      "defaultCellHeight": 20,
      "maxColumns": 12,
      "name": "grid",
      "type": "grid"
     },
     "report_default": {
      "name": "report",
      "type": "report"
     }
    }
   }
  },
  "kernelspec": {
   "display_name": "Apache Toree - Scala",
   "language": "scala",
   "name": "apache_toree_scala"
  },
  "language_info": {
   "file_extension": ".scala",
   "name": "scala",
   "version": "2.11.8"
  }
 },
 "nbformat": 4,
 "nbformat_minor": 2
}
