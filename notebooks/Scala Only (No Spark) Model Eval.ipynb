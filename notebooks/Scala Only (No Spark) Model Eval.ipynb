{
 "cells": [
  {
   "cell_type": "code",
   "execution_count": 1,
   "metadata": {
    "collapsed": false
   },
   "outputs": [],
   "source": [
    "val labels_true = List(0, 0, 0, 1, 1, 1,3,3,3,5,5,5,5,5,5,5,5)\n",
    "val labels_pred = List(0, 1, 1, 1, 1, 1,3,3,3,5,5,5,5,5,5,5,5)"
   ]
  },
  {
   "cell_type": "code",
   "execution_count": 2,
   "metadata": {
    "collapsed": false
   },
   "outputs": [],
   "source": [
    "def counter[T](s: Seq[T]) = s.groupBy(identity).mapValues(_.length)\n",
    "var log2 = (x: Double) => scala.math.log10(x)/scala.math.log10(2.0)"
   ]
  },
  {
   "cell_type": "code",
   "execution_count": 3,
   "metadata": {
    "collapsed": false
   },
   "outputs": [],
   "source": [
    "def homogeneity_score[T](labels_true: Seq[T], labels_pred: Seq[T]): Double = {\n",
    "    val n = labels_true.length\n",
    "    val classes = counter(labels_true)\n",
    "    val clusters = counter(labels_pred)\n",
    "    \n",
    "    // number of class c assigned to cluster k\n",
    "    val n_ck = counter(labels_true zip labels_pred)\n",
    "    \n",
    "    var entropy_of_classes: Double = 0.0\n",
    "    for (c <- classes.keys){\n",
    "        entropy_of_classes -= (classes(c).toDouble / n) * log2(classes(c).toDouble / n)\n",
    "    }    \n",
    "    if (entropy_of_classes == 0) entropy_of_classes = 1.0\n",
    "    \n",
    "    var conditional_entropy: Double = 0.0\n",
    "    for (c <- classes.keys){\n",
    "        for (k <- clusters.keys){\n",
    "            if (n_ck.contains((c,k)) && n_ck(c,k) > 0)\n",
    "                conditional_entropy -= (n_ck(c,k).toDouble / n) * log2(n_ck(c,k).toDouble / clusters(k))\n",
    "        }    \n",
    "    }\n",
    "    println(conditional_entropy, entropy_of_classes)\n",
    "    1 - conditional_entropy.toDouble / entropy_of_classes\n",
    "}\n",
    "\n",
    "def completeness_score[T](labels_true: Seq[T], labels_pred: Seq[T]): Double = {\n",
    "    return homogeneity_score(labels_pred, labels_true)\n",
    "}\n",
    "\n",
    "def v_measure_score[T](labels_true: Seq[T], labels_pred: Seq[T]): Double = {\n",
    "    val h = homogeneity_score(labels_true, labels_pred)\n",
    "    val c = completeness_score(labels_true, labels_pred)\n",
    "    2 * h * c / (h + c)\n",
    "}"
   ]
  },
  {
   "cell_type": "code",
   "execution_count": 4,
   "metadata": {
    "collapsed": false
   },
   "outputs": [
    {
     "name": "stdout",
     "output_type": "stream",
     "text": [
      "(0.28557370425137313,1.8366003408685512)\n"
     ]
    },
    {
     "data": {
      "text/plain": [
       "0.844509609468807"
      ]
     },
     "execution_count": 4,
     "metadata": {},
     "output_type": "execute_result"
    }
   ],
   "source": [
    "homogeneity_score(labels_true, labels_pred)"
   ]
  },
  {
   "cell_type": "code",
   "execution_count": 5,
   "metadata": {
    "collapsed": false
   },
   "outputs": [
    {
     "name": "stdout",
     "output_type": "stream",
     "text": [
      "(0.16205220600961578,1.7130788426267936)\n"
     ]
    },
    {
     "data": {
      "text/plain": [
       "0.9054029493697273"
      ]
     },
     "execution_count": 5,
     "metadata": {},
     "output_type": "execute_result"
    }
   ],
   "source": [
    "completeness_score(labels_true, labels_pred)"
   ]
  },
  {
   "cell_type": "code",
   "execution_count": null,
   "metadata": {
    "collapsed": true
   },
   "outputs": [],
   "source": []
  }
 ],
 "metadata": {
  "kernelspec": {
   "display_name": "Apache Toree - Scala",
   "language": "scala",
   "name": "apache_toree_scala"
  },
  "language_info": {
   "file_extension": ".scala",
   "name": "scala",
   "version": "2.11.8"
  }
 },
 "nbformat": 4,
 "nbformat_minor": 2
}
