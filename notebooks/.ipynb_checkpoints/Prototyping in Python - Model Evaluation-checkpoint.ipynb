{
 "cells": [
  {
   "cell_type": "code",
   "execution_count": 1,
   "metadata": {
    "collapsed": true
   },
   "outputs": [],
   "source": [
    "from sklearn.metrics import completeness_score, homogeneity_score, adjusted_rand_score, v_measure_score\n",
    "from math import log2, log\n",
    "import numpy as np\n",
    "from collections import Counter"
   ]
  },
  {
   "cell_type": "code",
   "execution_count": 2,
   "metadata": {
    "collapsed": true
   },
   "outputs": [],
   "source": [
    "labels_true = [0,0,0,1,1,1,3,3,3,5,5,5,5,5,5,5,5]\n",
    "labels_pred = [0,1,1,1,1,1,3,3,3,5,5,5,5,5,5,5,5]"
   ]
  },
  {
   "cell_type": "code",
   "execution_count": null,
   "metadata": {
    "collapsed": true
   },
   "outputs": [],
   "source": [
    "labels_pred = [0,0,0,1,1,1,3,3,3,5,5,5,5,5,5,5,5]\n",
    "labels_true = [0] * len(labels_true)"
   ]
  },
  {
   "cell_type": "code",
   "execution_count": 3,
   "metadata": {
    "collapsed": false
   },
   "outputs": [
    {
     "data": {
      "text/plain": [
       "0.90540294936972709"
      ]
     },
     "execution_count": 3,
     "metadata": {},
     "output_type": "execute_result"
    }
   ],
   "source": [
    "completeness_score(labels_true, labels_pred)"
   ]
  },
  {
   "cell_type": "code",
   "execution_count": 4,
   "metadata": {
    "collapsed": false
   },
   "outputs": [
    {
     "data": {
      "text/plain": [
       "0.84450960946880704"
      ]
     },
     "execution_count": 4,
     "metadata": {},
     "output_type": "execute_result"
    }
   ],
   "source": [
    "homogeneity_score(labels_true, labels_pred)"
   ]
  },
  {
   "cell_type": "code",
   "execution_count": 5,
   "metadata": {
    "collapsed": false
   },
   "outputs": [
    {
     "data": {
      "text/plain": [
       "0.8563506733562186"
      ]
     },
     "execution_count": 5,
     "metadata": {},
     "output_type": "execute_result"
    }
   ],
   "source": [
    "adjusted_rand_score(labels_true, labels_pred)"
   ]
  },
  {
   "cell_type": "code",
   "execution_count": null,
   "metadata": {
    "collapsed": true
   },
   "outputs": [],
   "source": [
    "def homogeneity(labels_true, labels_pred):\n",
    "    n = len(labels_true)\n",
    "    classes = Counter(labels_true)\n",
    "    clusters = Counter(labels_pred)\n",
    "    \n",
    "    # number of class c assigned to cluster k\n",
    "    n_ck = Counter(zip(labels_true,labels_pred))\n",
    "    \n",
    "    entropy_of_classes = 0\n",
    "    for c in classes.keys():\n",
    "        entropy_of_classes -= (classes[c] / n) * log2(classes[c] / n)\n",
    "    if entropy_of_classes == 0: entropy_of_classes = 1\n",
    "    \n",
    "    conditional_entropy = 0\n",
    "    for c in classes.keys():\n",
    "        for k in clusters.keys():\n",
    "            if n_ck[c,k] > 0:\n",
    "                conditional_entropy -= (n_ck[c,k] / n) * log2(n_ck[c,k] / clusters[k])\n",
    "    return 1 - conditional_entropy / entropy_of_classes\n",
    "\n",
    "def completeness(labels_true, labels_pred):\n",
    "    return homogeneity(labels_pred, labels_true)"
   ]
  },
  {
   "cell_type": "code",
   "execution_count": null,
   "metadata": {
    "collapsed": false
   },
   "outputs": [],
   "source": [
    "homogeneity(labels_true, labels_pred)"
   ]
  },
  {
   "cell_type": "code",
   "execution_count": null,
   "metadata": {
    "collapsed": false
   },
   "outputs": [],
   "source": [
    "completeness(labels_true, labels_pred)"
   ]
  },
  {
   "cell_type": "code",
   "execution_count": null,
   "metadata": {
    "collapsed": false
   },
   "outputs": [],
   "source": [
    "v_measure_score(labels_true, labels_pred)"
   ]
  },
  {
   "cell_type": "code",
   "execution_count": null,
   "metadata": {
    "collapsed": true
   },
   "outputs": [],
   "source": []
  }
 ],
 "metadata": {
  "kernelspec": {
   "display_name": "Python 3",
   "language": "python",
   "name": "python3"
  },
  "language_info": {
   "codemirror_mode": {
    "name": "ipython",
    "version": 3
   },
   "file_extension": ".py",
   "mimetype": "text/x-python",
   "name": "python",
   "nbconvert_exporter": "python",
   "pygments_lexer": "ipython3",
   "version": "3.5.2"
  }
 },
 "nbformat": 4,
 "nbformat_minor": 2
}
